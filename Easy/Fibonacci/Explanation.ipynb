{
 "cells": [
  {
   "cell_type": "markdown",
   "metadata": {},
   "source": [
    "# The Fibonnaci Sequence"
   ]
  },
  {
   "cell_type": "markdown",
   "metadata": {},
   "source": [
    "You can find more about who Fibonacci is [here](https://www.britannica.com/biography/Fibonacci). \n",
    "\n",
    "**Quick overview:** Leo is a italian mathematician what create the Fibonacci sequence based on how fact rabbits could breed in optimum circumstances \n",
    "\n",
    "The fibonacci sequence is where each number in the list is the sum of the two preceding numbers (0, 1, 1, 2, 3, 5, 8, 13, etc.)"
   ]
  },
  {
   "cell_type": "markdown",
   "metadata": {},
   "source": [
    "## The Problem\n",
    "\n",
    "Create a function the take an integer (n) and returns the nth number in the Fibonacci sequence where the 1st number (0) is considered f(1) integer.<br>\n",
    "**Example:**\n",
    "$$f(3) = 1$$ $$f(6) = 5$$"
   ]
  },
  {
   "cell_type": "code",
   "execution_count": 3,
   "metadata": {},
   "outputs": [],
   "source": [
    "#What you start with\n",
    "\n",
    "def getNthFib(n):\n",
    "    #Write code here...\n",
    "    pass"
   ]
  },
  {
   "cell_type": "markdown",
   "metadata": {},
   "source": [
    "The algorithm we are looking for here is a recursive algorithm. Recursion means we are going call the function on itself creating an interior loop.\n",
    "\n",
    "Function: f(n) = f(n-1) + f(n-2)\n",
    "\n",
    "See how in the above function we are calling the f(n) function twice within itself? For a much deeper look into what is happening: [recursion](https://www.programiz.com/python-programming/recursion)."
   ]
  },
  {
   "cell_type": "markdown",
   "metadata": {},
   "source": [
    "1st we need to find the **base case**. This is pretty much the stop sign deep within the 'inception' of the recursive algorithm that returns a value rather activating another function. In the case of fibonacci sequence this is 0 and 1."
   ]
  },
  {
   "cell_type": "code",
   "execution_count": null,
   "metadata": {},
   "outputs": [],
   "source": [
    "#Base Cases\n",
    "if n == 1:\n",
    "    return 0\n",
    "elif n == 2:\n",
    "    return 1"
   ]
  },
  {
   "cell_type": "markdown",
   "metadata": {},
   "source": [
    "Next, we layout the recurvice formula: f(n) = f(n-1) + f(n-2)"
   ]
  },
  {
   "cell_type": "code",
   "execution_count": null,
   "metadata": {},
   "outputs": [],
   "source": [
    "#recursive function\n",
    "else:\n",
    "    return getNthFib(n-1) + getNthFib(n-2)"
   ]
  },
  {
   "cell_type": "markdown",
   "metadata": {},
   "source": [
    "Now let's combine to form complete algorithm"
   ]
  },
  {
   "cell_type": "code",
   "execution_count": 8,
   "metadata": {},
   "outputs": [],
   "source": [
    "def getNthFib(n):\n",
    "    if n == 1:\n",
    "        return 0\n",
    "    elif n == 2:\n",
    "        return 1\n",
    "    else:\n",
    "        return getNthFib(n-1) + getNthFib(n-2)\n",
    "\n",
    "    pass"
   ]
  },
  {
   "cell_type": "code",
   "execution_count": 9,
   "metadata": {},
   "outputs": [
    {
     "name": "stdout",
     "output_type": "stream",
     "text": [
      "5\n"
     ]
    }
   ],
   "source": [
    "print(getNthFib(6))"
   ]
  },
  {
   "cell_type": "code",
   "execution_count": 10,
   "metadata": {},
   "outputs": [
    {
     "name": "stdout",
     "output_type": "stream",
     "text": [
      "1\n"
     ]
    }
   ],
   "source": [
    "print(getNthFib(2))"
   ]
  },
  {
   "cell_type": "markdown",
   "metadata": {},
   "source": [
    "## What you might have missed\n",
    "\n",
    "Originally you might have put a base case where n <= 0 and n == 1. This is proper if f(0) = 0 but since the problem wants 0 to be the 1st value and not the 0th value you have to adjust the base case up one."
   ]
  },
  {
   "cell_type": "code",
   "execution_count": null,
   "metadata": {},
   "outputs": [],
   "source": []
  }
 ],
 "metadata": {
  "kernelspec": {
   "display_name": "Python 3",
   "language": "python",
   "name": "python3"
  },
  "language_info": {
   "codemirror_mode": {
    "name": "ipython",
    "version": 3
   },
   "file_extension": ".py",
   "mimetype": "text/x-python",
   "name": "python",
   "nbconvert_exporter": "python",
   "pygments_lexer": "ipython3",
   "version": "3.8.3"
  }
 },
 "nbformat": 4,
 "nbformat_minor": 4
}
